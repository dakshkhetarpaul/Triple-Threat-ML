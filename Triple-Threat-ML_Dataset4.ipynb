{
 "cells": [
  {
   "cell_type": "markdown",
   "metadata": {},
   "source": [
    "# # Dataset-4 Phishing Email"
   ]
  },
  {
   "cell_type": "markdown",
   "metadata": {},
   "source": [
    "# Exploration"
   ]
  },
  {
   "cell_type": "code",
   "execution_count": 5,
   "metadata": {},
   "outputs": [
    {
     "name": "stdout",
     "output_type": "stream",
     "text": [
      "Number of samples: 18650\n",
      "Number of raw features: 3\n",
      "Fraction of missing values per column:\n",
      "Email Text    0.000858\n",
      "dtype: float64\n"
     ]
    }
   ],
   "source": [
    "import numpy as np\n",
    "import pandas as pd\n",
    "from scipy import stats as sps\n",
    "from matplotlib import pyplot as plt\n",
    "from mpl_toolkits.mplot3d import Axes3D\n",
    "from IPython.display import display, Latex\n",
    "\n",
    "file_path = '/Users/dakshkhetarpaul/Desktop/ML443-Final-Project/Datasets/Phishing_Email.csv'\n",
    "\n",
    "# Load the data\n",
    "data = pd.read_csv(file_path)\n",
    "\n",
    "# Number of samples and raw features\n",
    "num_samples = data.shape[0]\n",
    "num_features = data.shape[1]\n",
    "print(f\"Number of samples: {num_samples}\")\n",
    "print(f\"Number of raw features: {num_features}\")\n",
    "\n",
    "# Fraction of missing values\n",
    "missing_values = data.isnull().sum() / num_samples\n",
    "fraction_missing = missing_values[missing_values > 0]\n",
    "if fraction_missing.empty:\n",
    "    print(\"No missing values in the dataset.\")\n",
    "else:\n",
    "    print(\"Fraction of missing values per column:\")\n",
    "    print(fraction_missing)\n"
   ]
  },
  {
   "cell_type": "markdown",
   "metadata": {},
   "source": [
    "There is only 1 categorical column whic is also the target variable: Email Type"
   ]
  },
  {
   "cell_type": "code",
   "execution_count": null,
   "metadata": {},
   "outputs": [],
   "source": [
    "plt.figure(figsize=(8, 6))\n",
    "data['Email Type'].value_counts().plot(kind='bar')\n",
    "\n",
    "plt.title('Distribution of Email Types')\n",
    "plt.xlabel('Email Type')\n",
    "plt.ylabel('Count')\n",
    "plt.xticks(rotation=45)\n",
    "plt.tight_layout()\n",
    "plt.show()\n"
   ]
  }
 ],
 "metadata": {
  "kernelspec": {
   "display_name": "Python 3",
   "language": "python",
   "name": "python3"
  },
  "language_info": {
   "codemirror_mode": {
    "name": "ipython",
    "version": 3
   },
   "file_extension": ".py",
   "mimetype": "text/x-python",
   "name": "python",
   "nbconvert_exporter": "python",
   "pygments_lexer": "ipython3",
   "version": "3.11.3"
  }
 },
 "nbformat": 4,
 "nbformat_minor": 2
}
